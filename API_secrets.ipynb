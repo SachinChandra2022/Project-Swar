{
 "cells": [
  {
   "cell_type": "code",
   "execution_count": null,
   "id": "88c6f53a-5ebc-4008-92ae-f9e7248af6a3",
   "metadata": {},
   "outputs": [],
   "source": [
    "API_KEY_ASSEMBLYAPI='0a47a57e302c46debea9bc75027c47ba'"
   ]
  }
 ],
 "metadata": {
  "kernelspec": {
   "display_name": "Python 3 (ipykernel)",
   "language": "python",
   "name": "python3"
  },
  "language_info": {
   "codemirror_mode": {
    "name": "ipython",
    "version": 3
   },
   "file_extension": ".py",
   "mimetype": "text/x-python",
   "name": "python",
   "nbconvert_exporter": "python",
   "pygments_lexer": "ipython3",
   "version": "3.11.7"
  }
 },
 "nbformat": 4,
 "nbformat_minor": 5
}
