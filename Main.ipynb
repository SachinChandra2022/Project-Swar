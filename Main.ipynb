{
 "cells": [
  {
   "cell_type": "code",
   "execution_count": null,
   "id": "44890b51-7928-468c-9e16-26daec702054",
   "metadata": {},
   "outputs": [],
   "source": [
    "pip install requests"
   ]
  },
  {
   "cell_type": "code",
   "execution_count": 2,
   "id": "58230b4f-9cd7-4681-9835-4f36bd8d5fb4",
   "metadata": {},
   "outputs": [
    {
     "ename": "IndentationError",
     "evalue": "unindent does not match any outer indentation level (<tokenize>, line 13)",
     "output_type": "error",
     "traceback": [
      "\u001b[1;36m  File \u001b[1;32m<tokenize>:13\u001b[1;36m\u001b[0m\n\u001b[1;33m    yield data\u001b[0m\n\u001b[1;37m    ^\u001b[0m\n\u001b[1;31mIndentationError\u001b[0m\u001b[1;31m:\u001b[0m unindent does not match any outer indentation level\n"
     ]
    }
   ],
   "source": [
    "import requests\n",
    "from api_secrets import API_KEY_ASSEMBLYAI\n",
    "import system\n",
    "\n",
    "\n",
    "#upload file\n",
    "upload_endpoint=\"https://api.assemblyai.com/v2/upload\"\n",
    "sys.argv[1]\n",
    "\n",
    "def read_file(filename, chunk_size=5242880):\n",
    "    with open(filename,'rb') as _file:\n",
    "              while True:\n",
    "                  data=_file.read(chunk_size)\n",
    "                  if not data:\n",
    "                      break\n",
    "                    yield data\n",
    "\n",
    "headers={'autherization':API_KEY_ASSEMBLYAI}\n",
    "response= requests.post(upload_endpoint,\n",
    "                        headers=headers,\n",
    "                        data=read_file(filename))\n",
    "\n",
    "print(response.json())\n",
    "#transcribe\n",
    "#Poll"
   ]
  },
  {
   "cell_type": "code",
   "execution_count": null,
   "id": "e7c8d5a5-50c2-4aa3-a18a-8c026d2e201a",
   "metadata": {},
   "outputs": [],
   "source": []
  }
 ],
 "metadata": {
  "kernelspec": {
   "display_name": "Python 3 (ipykernel)",
   "language": "python",
   "name": "python3"
  },
  "language_info": {
   "codemirror_mode": {
    "name": "ipython",
    "version": 3
   },
   "file_extension": ".py",
   "mimetype": "text/x-python",
   "name": "python",
   "nbconvert_exporter": "python",
   "pygments_lexer": "ipython3",
   "version": "3.11.7"
  }
 },
 "nbformat": 4,
 "nbformat_minor": 5
}
