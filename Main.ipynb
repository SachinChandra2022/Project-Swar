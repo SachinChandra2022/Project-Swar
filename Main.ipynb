{
 "cells": [
  {
   "cell_type": "code",
   "execution_count": 9,
   "id": "58230b4f-9cd7-4681-9835-4f36bd8d5fb4",
   "metadata": {},
   "outputs": [
    {
     "ename": "AttributeError",
     "evalue": "module 'systems' has no attribute 'argv'",
     "output_type": "error",
     "traceback": [
      "\u001b[1;31m---------------------------------------------------------------------------\u001b[0m",
      "\u001b[1;31mAttributeError\u001b[0m                            Traceback (most recent call last)",
      "Cell \u001b[1;32mIn[9], line 8\u001b[0m\n\u001b[0;32m      6\u001b[0m \u001b[38;5;66;03m#upload file\u001b[39;00m\n\u001b[0;32m      7\u001b[0m upload_endpoint\u001b[38;5;241m=\u001b[39m\u001b[38;5;124m\"\u001b[39m\u001b[38;5;124mhttps://api.assemblyai.com/v2/upload\u001b[39m\u001b[38;5;124m\"\u001b[39m\n\u001b[1;32m----> 8\u001b[0m \u001b[43msys\u001b[49m\u001b[38;5;241;43m.\u001b[39;49m\u001b[43margv\u001b[49m[\u001b[38;5;241m1\u001b[39m]\n\u001b[0;32m     10\u001b[0m \u001b[38;5;28;01mdef\u001b[39;00m \u001b[38;5;21mread_file\u001b[39m(filename, chunk_size\u001b[38;5;241m=\u001b[39m\u001b[38;5;241m5242880\u001b[39m):\n\u001b[0;32m     11\u001b[0m     \u001b[38;5;28;01mwith\u001b[39;00m \u001b[38;5;28mopen\u001b[39m(filename,\u001b[38;5;124m'\u001b[39m\u001b[38;5;124mrb\u001b[39m\u001b[38;5;124m'\u001b[39m) \u001b[38;5;28;01mas\u001b[39;00m _file:\n",
      "\u001b[1;31mAttributeError\u001b[0m: module 'systems' has no attribute 'argv'"
     ]
    }
   ],
   "source": [
    "import requests\n",
    "from API_secrets import API_KEY_ASSEMBLYAPI\n",
    "import systems as sys\n",
    "\n",
    "\n",
    "#upload file\n",
    "upload_endpoint=\"https://api.assemblyai.com/v2/upload\"\n",
    "sys.argv[1]\n",
    "\n",
    "def read_file(filename, chunk_size=5242880):\n",
    "    with open(filename,'rb') as _file:\n",
    "            while True:\n",
    "                data=_file.read(chunk_size)\n",
    "                if not data:\n",
    "                    break\n",
    "            yield data\n",
    "\n",
    "headers={'autherization':API_KEY_ASSEMBLYAI}\n",
    "response= requests.post(upload_endpoint,\n",
    "                        headers=headers,\n",
    "                        data=read_file(filename))\n",
    "\n",
    "print(response.json())\n",
    "#transcribe\n",
    "#Poll"
   ]
  },
  {
   "cell_type": "code",
   "execution_count": null,
   "id": "e7c8d5a5-50c2-4aa3-a18a-8c026d2e201a",
   "metadata": {},
   "outputs": [],
   "source": []
  }
 ],
 "metadata": {
  "kernelspec": {
   "display_name": "Python 3",
   "language": "python",
   "name": "python3"
  },
  "language_info": {
   "codemirror_mode": {
    "name": "ipython",
    "version": 3
   },
   "file_extension": ".py",
   "mimetype": "text/x-python",
   "name": "python",
   "nbconvert_exporter": "python",
   "pygments_lexer": "ipython3",
   "version": "3.10.6"
  }
 },
 "nbformat": 4,
 "nbformat_minor": 5
}
